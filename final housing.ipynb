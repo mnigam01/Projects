{
 "cells": [
  {
   "cell_type": "code",
   "execution_count": 64,
   "metadata": {
    "scrolled": true
   },
   "outputs": [
    {
     "data": {
      "text/plain": [
       "DecisionTreeRegressor    0.0000\n",
       "RandomForestRegressor    0.2421\n",
       "KNeighborsRegressor      0.4559\n",
       "SVR                      0.4628\n",
       "LinearRegression         0.6050\n",
       "Ridge                    0.6050\n",
       "ElasticNet               0.6212\n",
       "Lasso                    0.6324\n",
       "SGDRegressor             0.6504\n",
       "poly_degree1             0.6534\n",
       "poly_degree2             0.6534\n",
       "sigmoid                  1.6579\n",
       "Name: mean_squared_error, dtype: float64"
      ]
     },
     "execution_count": 64,
     "metadata": {},
     "output_type": "execute_result"
    }
   ],
   "source": [
    "import warnings\n",
    "warnings.filterwarnings(\"ignore\")\n",
    "import numpy as np\n",
    "import pandas as pd\n",
    "import matplotlib.pyplot as plt\n",
    "import seaborn as sns\n",
    "%matplotlib inline\n",
    "\n",
    "from sklearn.linear_model import LinearRegression\n",
    "from sklearn.linear_model import Ridge\n",
    "from sklearn.linear_model import Lasso\n",
    "from sklearn.linear_model import SGDRegressor\n",
    "from sklearn.neighbors import KNeighborsRegressor\n",
    "from sklearn.svm import SVR\n",
    "from sklearn.tree import DecisionTreeRegressor\n",
    "from sklearn.ensemble import RandomForestRegressor\n",
    "from sklearn.linear_model import ElasticNet\n",
    "from sklearn.metrics import mean_squared_error\n",
    "from sklearn.model_selection import cross_val_score\n",
    "\n",
    "train = pd.read_csv('E:\\\\train (1).csv')\n",
    "test = pd.read_csv('E:\\\\test (1).csv')\n",
    "\n",
    "train.drop('ID',axis=1,inplace=True)\n",
    "test.drop('ID',axis=1,inplace=True)\n",
    "\n",
    "column_names = test.columns\n",
    "\n",
    "Q1 = train.quantile(0.25)\n",
    "Q3 = train.quantile(0.75)\n",
    "IQR = Q3 - Q1\n",
    "#print(IQR)\n",
    "\n",
    "train_dum = train.copy()\n",
    "test_dum = test.copy()\n",
    "\n",
    "a = ((train < (Q1 - 1.5 * IQR)) |(train > (Q3 + 1.5 * IQR)))\n",
    "\n",
    "for i,j in zip(np.arange(len(train.median())),train.median()):\n",
    "    (train_dum.ix[a.iloc[:,i],i]) = j\n",
    "\n",
    "    \n",
    "    \n",
    "g1 = train.median().drop('medv')\n",
    " \n",
    "    \n",
    "min2 = (Q1 - 1.5 * IQR).drop('medv')\n",
    "max2 = (Q3 + 1.5 * IQR).drop('medv')\n",
    "   \n",
    "for i,j in zip(np.arange(len(g1)),g1):\n",
    "    \n",
    "    test_dum.ix[(test_dum.iloc[:,i]>max2[i]) | (test_dum.iloc[:,i]<min2[i]),i] =j\n",
    "\n",
    "train = train_dum.copy()\n",
    "test = test_dum.copy()\n",
    "\n",
    "train['income_cat'] = np.floor(train['lstat']/4.2)\n",
    "train['income_cat'].where(train['income_cat']<5,5,inplace=True)\n",
    "\n",
    "from sklearn.model_selection import StratifiedShuffleSplit\n",
    "\n",
    "split = StratifiedShuffleSplit(n_splits=1, test_size=0.2, random_state=42)\n",
    "for train_index, test_index in split.split(train, train[\"income_cat\"]):\n",
    "    strat_train_set = train.loc[train_index]\n",
    "    strat_test_set = train.loc[test_index]\n",
    "\n",
    "for set_ in (strat_train_set, strat_test_set):\n",
    "    set_.drop(\"income_cat\", axis=1, inplace=True)\n",
    "\n",
    "train = strat_train_set.copy()\n",
    "\n",
    "\n",
    "X_train = train.drop('medv',axis=1).copy()\n",
    "y_train = train['medv'].copy()\n",
    "X_test = strat_test_set.drop('medv',axis=1).copy()\n",
    "y_test =strat_test_set['medv'].copy()\n",
    "\n",
    "\n",
    "#scaling the terms\n",
    "from sklearn.preprocessing import StandardScaler\n",
    "scale_x = StandardScaler()\n",
    "scale_y = StandardScaler()\n",
    "X_train = scale_x.fit_transform(X_train)\n",
    "X_test = scale_x.transform(X_test)\n",
    "y_train = scale_y.fit_transform(y_train.values.reshape(-1,1))\n",
    "y_test = scale_y.transform(y_test.values.reshape(-1,1))\n",
    "\n",
    "\n",
    "test = scale_x.transform(test)\n",
    "\n",
    "y_train = y_train.ravel()\n",
    "y_test = y_test.ravel()\n",
    "\n",
    "X_train = pd.DataFrame(X_train,columns=column_names)\n",
    "X_test = pd.DataFrame(X_test,columns=column_names)\n",
    "\n",
    "lin_reg = LinearRegression()\n",
    "lin_reg.fit(X_train,y_train)\n",
    "pred_1 = lin_reg.predict(X_train)\n",
    "error_1 = np.sqrt(mean_squared_error(y_train,pred_1))\n",
    "#error_1\n",
    "\n",
    "rid_reg = Ridge(alpha=1,solver='cholesky')\n",
    "rid_reg.fit(X_train,y_train)\n",
    "pred_2 = rid_reg.predict(X_train)\n",
    "error_2 = np.sqrt(mean_squared_error(y_train,pred_2))\n",
    "#error_2\n",
    "\n",
    "lass_reg = Lasso(alpha=0.1)\n",
    "lass_reg.fit(X_train,y_train)\n",
    "pred_3 = lass_reg.predict(X_train)\n",
    "error_3 = np.sqrt(mean_squared_error(y_train,pred_3))\n",
    "#error_3\n",
    "\n",
    "sgd_reg = SGDRegressor(n_iter=50,penalty=None,eta0=0.1)\n",
    "sgd_reg.fit(X_train,y_train)\n",
    "pred_4 = sgd_reg.predict(X_train)\n",
    "error_4 = np.sqrt(mean_squared_error(y_train,pred_4))\n",
    "#error_4\n",
    "\n",
    "knr_reg = KNeighborsRegressor(n_neighbors=3)\n",
    "knr_reg.fit(X_train,y_train)\n",
    "pred_5 = knr_reg.predict(X_train)\n",
    "error_5 = np.sqrt(mean_squared_error(y_train,pred_5))\n",
    "#error_5\n",
    "\n",
    "svr_reg = SVR(kernel='rbf')\n",
    "svr_reg.fit(X_train,y_train)\n",
    "pred_6 = svr_reg.predict(X_train)\n",
    "error_6 = np.sqrt(mean_squared_error(y_train,pred_6))\n",
    "#error_6\n",
    "\n",
    "tree_reg = DecisionTreeRegressor(random_state=42)\n",
    "tree_reg.fit(X_train,y_train)\n",
    "pred_7 = tree_reg.predict(X_train)\n",
    "error_7 = np.sqrt(mean_squared_error(y_train,pred_7))\n",
    "#error_7\n",
    "\n",
    "forest_reg = RandomForestRegressor(random_state=42,n_jobs=-1,oob_score=True)\n",
    "forest_reg.fit(X_train,y_train)\n",
    "pred_8 = forest_reg.predict(X_train)\n",
    "error_8 = np.sqrt(mean_squared_error(y_train,pred_8))\n",
    "#error_8\n",
    "\n",
    "elasic_reg = ElasticNet(alpha=0.1,l1_ratio=0.5)\n",
    "elasic_reg.fit(X_train,y_train)\n",
    "pred_9 = elasic_reg.predict(X_train)\n",
    "error_9 = np.sqrt(mean_squared_error(y_train,pred_9))\n",
    "#error_9\n",
    "\n",
    "svr_reg_2 = SVR(kernel='sigmoid')\n",
    "svr_reg_2.fit(X_train,y_train)\n",
    "pred_10 = svr_reg_2.predict(X_train)\n",
    "error_10 = np.sqrt(mean_squared_error(y_train,pred_10))\n",
    "#error_10\n",
    "\n",
    "svr_reg_3 = SVR(kernel='poly',degree=2)\n",
    "svr_reg_3.fit(X_train,y_train)\n",
    "pred_11 = svr_reg_3.predict(X_train)\n",
    "error_11 = np.sqrt(mean_squared_error(y_train,pred_11))\n",
    "#error_11\n",
    "\n",
    "svr_reg_4 = SVR(kernel='poly',degree=3)\n",
    "svr_reg_4.fit(X_train,y_train)\n",
    "pred_12 = svr_reg_3.predict(X_train)\n",
    "error_12 = np.sqrt(mean_squared_error(y_train,pred_12))\n",
    "#error_12\n",
    "\n",
    "\n",
    "\n",
    "results = pd.DataFrame([error_1,error_2,error_3,error_4,error_5,error_6,error_7,error_8,error_9,error_10,error_11,error_12],\n",
    "                       index=['LinearRegression','Ridge','Lasso','SGDRegressor','KNeighborsRegressor','SVR','DecisionTreeRegressor',\n",
    "                              'RandomForestRegressor','ElasticNet','sigmoid','poly_degree1','poly_degree2'],\n",
    "                       columns=['mean_squared_error'])\n",
    "results = results['mean_squared_error'].sort_values()\n",
    "results = round(results,4)\n",
    "results\n"
   ]
  },
  {
   "cell_type": "code",
   "execution_count": 65,
   "metadata": {},
   "outputs": [
    {
     "name": "stdout",
     "output_type": "stream",
     "text": [
      "                       mean_of_cross_val  std_of_cross_val  \\\n",
      "DecisionTreeRegressor           0.765514          0.129885   \n",
      "RandomForestRegressor           0.621376          0.107011   \n",
      "KNeighborsRegressor             0.664229          0.129952   \n",
      "SVR                             0.565932          0.102069   \n",
      "LinearRegression                0.641269          0.091673   \n",
      "\n",
      "                       model_without_cross_val  \n",
      "DecisionTreeRegressor                   0.0000  \n",
      "RandomForestRegressor                   0.2421  \n",
      "KNeighborsRegressor                     0.4559  \n",
      "SVR                                     0.4628  \n",
      "LinearRegression                        0.6050  \n"
     ]
    }
   ],
   "source": [
    "\"\"\"def display_scores(p):\n",
    "    print(p.mean())\n",
    "    print(p.std())\"\"\"\n",
    "\n",
    "from sklearn.model_selection import cross_val_score\n",
    "\n",
    "scores_1 = cross_val_score(tree_reg,X_train,y_train,scoring='neg_mean_squared_error',cv=10)\n",
    "tree_scores = np.sqrt(-scores_1)\n",
    "#display_scores(tree_scores)\n",
    "\n",
    "scores_2 = cross_val_score(forest_reg,X_train,y_train,scoring='neg_mean_squared_error',cv=10,n_jobs=-1)\n",
    "forest_scores = np.sqrt(-scores_2)\n",
    "#display_scores(forest_scores)\n",
    "\n",
    "scores_3 = cross_val_score(knr_reg,X_train,y_train,scoring='neg_mean_squared_error',cv=10)\n",
    "knr_scores = np.sqrt(-scores_3)\n",
    "#display_scores(knr_scores)\n",
    "\n",
    "scores_4 = cross_val_score(svr_reg,X_train,y_train,scoring='neg_mean_squared_error',cv=10)\n",
    "svr_scores = np.sqrt(-scores_4)\n",
    "#display_scores(svr_scores)\n",
    "\n",
    "scores_5 = cross_val_score(lin_reg,X_train,y_train,scoring='neg_mean_squared_error',cv=10)\n",
    "lin_scores = np.sqrt(-scores_5)\n",
    "#display_scores(svr_scores)\n",
    "\n",
    "a = []\n",
    "b = []\n",
    "\n",
    "for i in [tree_scores,forest_scores,knr_scores,svr_scores,lin_scores]:\n",
    "    a.append(i.mean())\n",
    "    b.append(i.std())\n",
    "\n",
    "a = np.array(a)\n",
    "b = np.array(b)\n",
    "\n",
    "df = pd.DataFrame([a,b,results[:5].values]).T\n",
    "df.columns = ['mean_of_cross_val','std_of_cross_val','model_without_cross_val']\n",
    "df.index = results[:5].index\n",
    "\n",
    "print(df)"
   ]
  },
  {
   "cell_type": "code",
   "execution_count": 66,
   "metadata": {},
   "outputs": [
    {
     "data": {
      "text/plain": [
       "array([ 0,  1,  2,  3,  4,  5,  6,  7,  8,  9, 10, 11, 12, 13])"
      ]
     },
     "execution_count": 66,
     "metadata": {},
     "output_type": "execute_result"
    }
   ],
   "source": [
    "#shortlist random knr linear\n",
    "import statsmodels.formula.api as sm\n",
    "X = np.append(np.ones((X_train.shape[0],1)),X_train,axis=1)\n",
    "np.arange(X.shape[1])"
   ]
  },
  {
   "cell_type": "code",
   "execution_count": 67,
   "metadata": {},
   "outputs": [
    {
     "data": {
      "text/html": [
       "<table class=\"simpletable\">\n",
       "<caption>OLS Regression Results</caption>\n",
       "<tr>\n",
       "  <th>Dep. Variable:</th>            <td>y</td>        <th>  R-squared:         </th> <td>   0.630</td>\n",
       "</tr>\n",
       "<tr>\n",
       "  <th>Model:</th>                   <td>OLS</td>       <th>  Adj. R-squared:    </th> <td>   0.620</td>\n",
       "</tr>\n",
       "<tr>\n",
       "  <th>Method:</th>             <td>Least Squares</td>  <th>  F-statistic:       </th> <td>   62.95</td>\n",
       "</tr>\n",
       "<tr>\n",
       "  <th>Date:</th>             <td>Sat, 16 Mar 2019</td> <th>  Prob (F-statistic):</th> <td>2.43e-52</td>\n",
       "</tr>\n",
       "<tr>\n",
       "  <th>Time:</th>                 <td>16:13:55</td>     <th>  Log-Likelihood:    </th> <td> -245.27</td>\n",
       "</tr>\n",
       "<tr>\n",
       "  <th>No. Observations:</th>      <td>   266</td>      <th>  AIC:               </th> <td>   504.5</td>\n",
       "</tr>\n",
       "<tr>\n",
       "  <th>Df Residuals:</th>          <td>   259</td>      <th>  BIC:               </th> <td>   529.6</td>\n",
       "</tr>\n",
       "<tr>\n",
       "  <th>Df Model:</th>              <td>     7</td>      <th>                     </th>     <td> </td>   \n",
       "</tr>\n",
       "<tr>\n",
       "  <th>Covariance Type:</th>      <td>nonrobust</td>    <th>                     </th>     <td> </td>   \n",
       "</tr>\n",
       "</table>\n",
       "<table class=\"simpletable\">\n",
       "<tr>\n",
       "   <td></td>     <th>coef</th>     <th>std err</th>      <th>t</th>      <th>P>|t|</th>  <th>[0.025</th>    <th>0.975]</th>  \n",
       "</tr>\n",
       "<tr>\n",
       "  <th>x1</th> <td>    0.0888</td> <td>    0.045</td> <td>    1.960</td> <td> 0.051</td> <td>   -0.000</td> <td>    0.178</td>\n",
       "</tr>\n",
       "<tr>\n",
       "  <th>x2</th> <td>    0.2686</td> <td>    0.044</td> <td>    6.098</td> <td> 0.000</td> <td>    0.182</td> <td>    0.355</td>\n",
       "</tr>\n",
       "<tr>\n",
       "  <th>x3</th> <td>   -0.2332</td> <td>    0.061</td> <td>   -3.818</td> <td> 0.000</td> <td>   -0.354</td> <td>   -0.113</td>\n",
       "</tr>\n",
       "<tr>\n",
       "  <th>x4</th> <td>   -0.0777</td> <td>    0.059</td> <td>   -1.320</td> <td> 0.188</td> <td>   -0.194</td> <td>    0.038</td>\n",
       "</tr>\n",
       "<tr>\n",
       "  <th>x5</th> <td>   -0.2784</td> <td>    0.057</td> <td>   -4.916</td> <td> 0.000</td> <td>   -0.390</td> <td>   -0.167</td>\n",
       "</tr>\n",
       "<tr>\n",
       "  <th>x6</th> <td>   -0.0875</td> <td>    0.042</td> <td>   -2.063</td> <td> 0.040</td> <td>   -0.171</td> <td>   -0.004</td>\n",
       "</tr>\n",
       "<tr>\n",
       "  <th>x7</th> <td>   -0.3139</td> <td>    0.054</td> <td>   -5.854</td> <td> 0.000</td> <td>   -0.420</td> <td>   -0.208</td>\n",
       "</tr>\n",
       "</table>\n",
       "<table class=\"simpletable\">\n",
       "<tr>\n",
       "  <th>Omnibus:</th>       <td> 8.985</td> <th>  Durbin-Watson:     </th> <td>   1.759</td>\n",
       "</tr>\n",
       "<tr>\n",
       "  <th>Prob(Omnibus):</th> <td> 0.011</td> <th>  Jarque-Bera (JB):  </th> <td>   9.733</td>\n",
       "</tr>\n",
       "<tr>\n",
       "  <th>Skew:</th>          <td> 0.347</td> <th>  Prob(JB):          </th> <td> 0.00770</td>\n",
       "</tr>\n",
       "<tr>\n",
       "  <th>Kurtosis:</th>      <td> 3.630</td> <th>  Cond. No.          </th> <td>    3.81</td>\n",
       "</tr>\n",
       "</table><br/><br/>Warnings:<br/>[1] Standard Errors assume that the covariance matrix of the errors is correctly specified."
      ],
      "text/plain": [
       "<class 'statsmodels.iolib.summary.Summary'>\n",
       "\"\"\"\n",
       "                            OLS Regression Results                            \n",
       "==============================================================================\n",
       "Dep. Variable:                      y   R-squared:                       0.630\n",
       "Model:                            OLS   Adj. R-squared:                  0.620\n",
       "Method:                 Least Squares   F-statistic:                     62.95\n",
       "Date:                Sat, 16 Mar 2019   Prob (F-statistic):           2.43e-52\n",
       "Time:                        16:13:55   Log-Likelihood:                -245.27\n",
       "No. Observations:                 266   AIC:                             504.5\n",
       "Df Residuals:                     259   BIC:                             529.6\n",
       "Df Model:                           7                                         \n",
       "Covariance Type:            nonrobust                                         \n",
       "==============================================================================\n",
       "                 coef    std err          t      P>|t|      [0.025      0.975]\n",
       "------------------------------------------------------------------------------\n",
       "x1             0.0888      0.045      1.960      0.051      -0.000       0.178\n",
       "x2             0.2686      0.044      6.098      0.000       0.182       0.355\n",
       "x3            -0.2332      0.061     -3.818      0.000      -0.354      -0.113\n",
       "x4            -0.0777      0.059     -1.320      0.188      -0.194       0.038\n",
       "x5            -0.2784      0.057     -4.916      0.000      -0.390      -0.167\n",
       "x6            -0.0875      0.042     -2.063      0.040      -0.171      -0.004\n",
       "x7            -0.3139      0.054     -5.854      0.000      -0.420      -0.208\n",
       "==============================================================================\n",
       "Omnibus:                        8.985   Durbin-Watson:                   1.759\n",
       "Prob(Omnibus):                  0.011   Jarque-Bera (JB):                9.733\n",
       "Skew:                           0.347   Prob(JB):                      0.00770\n",
       "Kurtosis:                       3.630   Cond. No.                         3.81\n",
       "==============================================================================\n",
       "\n",
       "Warnings:\n",
       "[1] Standard Errors assume that the covariance matrix of the errors is correctly specified.\n",
       "\"\"\""
      ]
     },
     "execution_count": 67,
     "metadata": {},
     "output_type": "execute_result"
    }
   ],
   "source": [
    "X_opt = X[:,[1,6, 7,  8,  10, 11,  13]].copy()\n",
    "regressor_OLS = sm.OLS(endog= y_train,exog=X_opt).fit()\n",
    "regressor_OLS.summary()"
   ]
  },
  {
   "cell_type": "code",
   "execution_count": 68,
   "metadata": {},
   "outputs": [
    {
     "data": {
      "text/plain": [
       "array([ 0,  5,  6,  7,  9, 10, 12])"
      ]
     },
     "execution_count": 68,
     "metadata": {},
     "output_type": "execute_result"
    }
   ],
   "source": [
    "np.array([1,6, 7,  8,  10, 11,  13])-1"
   ]
  },
  {
   "cell_type": "code",
   "execution_count": 69,
   "metadata": {},
   "outputs": [
    {
     "data": {
      "text/plain": [
       "RandomForestRegressor    0.2505\n",
       "SVR                      0.4737\n",
       "LinearRegression         0.6084\n",
       "Name: mean_squared_error, dtype: float64"
      ]
     },
     "execution_count": 69,
     "metadata": {},
     "output_type": "execute_result"
    }
   ],
   "source": [
    "lin_reg_1 = LinearRegression()\n",
    "lin_reg_1.fit(X_train.iloc[:,[ 0,  5,  6,  7,  9, 10, 12]],y_train)\n",
    "pred_11 = lin_reg_1.predict(X_train.iloc[:,[ 0,  5,  6,  7,  9, 10, 12]])\n",
    "error_11 = np.sqrt(mean_squared_error(y_train,pred_11))\n",
    "\n",
    "\n",
    "forest_reg_11 = RandomForestRegressor(random_state=42,n_jobs=-1,oob_score=True)\n",
    "forest_reg_11.fit(X_train.iloc[:,[ 0,  5,  6,  7,  9, 10, 12]],y_train)\n",
    "pred_88 = forest_reg_11.predict(X_train.iloc[:,[ 0,  5,  6,  7,  9, 10, 12]])\n",
    "error_88 = np.sqrt(mean_squared_error(y_train,pred_88))\n",
    "\n",
    "\n",
    "\n",
    "\n",
    "knr_reg_22 = SVR(kernel='rbf')\n",
    "knr_reg_22.fit(X_train.iloc[:,[ 0,  5,  6,  7,  9, 10, 12]],y_train)\n",
    "pred_101 = knr_reg_22.predict(X_train.iloc[:,[ 0,  5,  6,  7,  9, 10, 12]])\n",
    "error_101 = np.sqrt(mean_squared_error(y_train,pred_101))\n",
    "\n",
    "\n",
    "results = pd.DataFrame([error_11,error_101,error_88],\n",
    "                       index=['LinearRegression','SVR','RandomForestRegressor'],\n",
    "                       columns=['mean_squared_error'])\n",
    "results = results['mean_squared_error'].sort_values()\n",
    "results = round(results,4)\n",
    "results"
   ]
  },
  {
   "cell_type": "code",
   "execution_count": 70,
   "metadata": {
    "scrolled": true
   },
   "outputs": [
    {
     "name": "stdout",
     "output_type": "stream",
     "text": [
      "        mean_of_cross_val  std_of_cross_val\n",
      "svr              0.562255          0.102587\n",
      "forest           0.639002          0.078580\n",
      "linear           0.629795          0.087501\n"
     ]
    }
   ],
   "source": [
    "\n",
    "scores_2 = cross_val_score(forest_reg_11,X_train.iloc[:,[ 0,  5,  6,  7,  9, 10, 12]],y_train,scoring='neg_mean_squared_error',cv=10,n_jobs=-1)\n",
    "forest_scores = np.sqrt(-scores_2)\n",
    "#display_scores(forest_scores)\n",
    "\n",
    "scores_3 = cross_val_score(knr_reg_22,X_train.iloc[:,[ 0,  5,  6,  7,  9, 10, 12]],y_train,scoring='neg_mean_squared_error',cv=10)\n",
    "knr_scores = np.sqrt(-scores_3)\n",
    "#display_scores(knr_scores)\n",
    "\n",
    "scores_5 = cross_val_score(lin_reg_1,X_train.iloc[:,[ 0,  5,  6,  7,  9, 10, 12]],y_train,scoring='neg_mean_squared_error',cv=10)\n",
    "lin_scores = np.sqrt(-scores_5)\n",
    "#display_scores(svr_scores)\n",
    "\n",
    "a = []\n",
    "b = []\n",
    "\n",
    "for i in [knr_scores,forest_scores,lin_scores]:\n",
    "    a.append(i.mean())\n",
    "    b.append(i.std())\n",
    "\n",
    "a = np.array(a)\n",
    "b = np.array(b)\n",
    "\n",
    "df = pd.DataFrame([a,b]).T\n",
    "df.columns = ['mean_of_cross_val','std_of_cross_val']\n",
    "df.index = ['svr','forest','linear']\n",
    "\n",
    "print(df)"
   ]
  },
  {
   "cell_type": "code",
   "execution_count": null,
   "metadata": {},
   "outputs": [],
   "source": [
    "#since in above thing svr has the lowest mean of cross val go for it"
   ]
  },
  {
   "cell_type": "code",
   "execution_count": 77,
   "metadata": {},
   "outputs": [],
   "source": [
    "#no point in going for random forest since the score is high for that in cross val score\n",
    "#instead go for svr and then linear"
   ]
  },
  {
   "cell_type": "code",
   "execution_count": 80,
   "metadata": {},
   "outputs": [
    {
     "data": {
      "text/plain": [
       "GridSearchCV(cv=5, error_score='raise',\n",
       "       estimator=SVR(C=1.0, cache_size=200, coef0=0.0, degree=3, epsilon=0.1, gamma='auto',\n",
       "  kernel='rbf', max_iter=-1, shrinking=True, tol=0.001, verbose=False),\n",
       "       fit_params=None, iid=True, n_jobs=-1,\n",
       "       param_grid={'C': [0.2, 0.5, 1, 1.4], 'gamma': [0.1, 0.3, 0.2, 0.4, 0.6, 0.8, 1], 'tol': [0.001, 0.01], 'max_iter': [5, 10, -1]},\n",
       "       pre_dispatch='2*n_jobs', refit=True, return_train_score='warn',\n",
       "       scoring='neg_mean_squared_error', verbose=0)"
      ]
     },
     "execution_count": 80,
     "metadata": {},
     "output_type": "execute_result"
    }
   ],
   "source": [
    "from sklearn.model_selection import GridSearchCV\n",
    "param_grid = {'C':[0.2,0.5,1,1.4],\n",
    "             'gamma':[0.1,0.3,0.2,0.4,0.6,0.8,1],\n",
    "             'tol':[1e-3,10e-3],\n",
    "             'max_iter':[5,10,-1]}\n",
    "forest_reg_2 = SVR(kernel='rbf')\n",
    "grid_search = GridSearchCV(forest_reg_2,param_grid,cv=5,scoring='neg_mean_squared_error',n_jobs=-1)\n",
    "grid_search.fit(X_train.iloc[:,[ 0,5,  6,  7,   9, 10, 12]],y_train)"
   ]
  },
  {
   "cell_type": "code",
   "execution_count": 81,
   "metadata": {},
   "outputs": [
    {
     "data": {
      "text/plain": [
       "{'C': 1, 'gamma': 0.2, 'max_iter': -1, 'tol': 0.001}"
      ]
     },
     "execution_count": 81,
     "metadata": {},
     "output_type": "execute_result"
    }
   ],
   "source": [
    "grid_search.best_params_"
   ]
  },
  {
   "cell_type": "code",
   "execution_count": 82,
   "metadata": {},
   "outputs": [
    {
     "data": {
      "text/plain": [
       "0.5769489153226424"
      ]
     },
     "execution_count": 82,
     "metadata": {},
     "output_type": "execute_result"
    }
   ],
   "source": [
    "cvres = grid_search.cv_results_\n",
    "np.sqrt(-cvres['mean_test_score']).min()\n"
   ]
  },
  {
   "cell_type": "code",
   "execution_count": 85,
   "metadata": {},
   "outputs": [],
   "source": [
    "#since the above thing increased so go with the normal thing"
   ]
  },
  {
   "cell_type": "code",
   "execution_count": 86,
   "metadata": {},
   "outputs": [
    {
     "data": {
      "text/plain": [
       "0.3941594733733045"
      ]
     },
     "execution_count": 86,
     "metadata": {},
     "output_type": "execute_result"
    }
   ],
   "source": [
    "y_pred = knr_reg_22.predict(X_test.iloc[:,[ 0,  5,  6,  7,  9, 10, 12]])\n",
    "error_11 = np.sqrt(mean_squared_error(y_test,y_pred))\n",
    "error_11"
   ]
  },
  {
   "cell_type": "code",
   "execution_count": 87,
   "metadata": {
    "scrolled": true
   },
   "outputs": [
    {
     "data": {
      "text/plain": [
       "array([24.30936809, 15.97499658, 16.90316518, 28.59839239, 14.32742019,\n",
       "       19.1464854 , 16.2310928 , 19.7264769 , 20.9671207 , 19.40026113,\n",
       "       31.00808408, 21.89010564, 21.272048  , 19.70923314, 16.22917379,\n",
       "       16.55012939, 31.68735126, 15.24661395, 13.40630548, 23.89192688,\n",
       "       29.51957887, 20.91274477, 16.52112231, 18.6432327 , 25.07919664,\n",
       "       25.9125692 , 19.19470352, 20.21318981, 20.11944989, 21.00501143,\n",
       "       24.88406671, 23.35288405, 23.98888145, 18.31906915, 23.77271678,\n",
       "       26.62013657, 30.39320905, 31.31719967, 25.05284828, 12.26243104,\n",
       "       25.84184042, 27.75035444, 21.01502367, 22.80931517, 15.63555048,\n",
       "       11.81550108, 14.31338206, 21.68512076, 22.38933687, 12.83104232,\n",
       "       20.11955823, 19.04871828, 23.7572698 , 14.30460521, 19.54935024,\n",
       "       17.61681773, 19.15744048, 26.9682247 , 10.9754596 , 21.76319134,\n",
       "       25.41566701, 22.16724952, 22.85984431, 13.86191027, 28.63655449,\n",
       "       17.61485935, 19.53935348])"
      ]
     },
     "execution_count": 87,
     "metadata": {},
     "output_type": "execute_result"
    }
   ],
   "source": [
    "scale_y.inverse_transform(y_pred)"
   ]
  },
  {
   "cell_type": "code",
   "execution_count": 88,
   "metadata": {},
   "outputs": [
    {
     "data": {
      "text/plain": [
       "array([23.6, 14.1, 21.9, 22. , 12.7, 21.6, 21.4, 20.2, 19.9, 19.4, 32.2,\n",
       "       22.5, 21.6, 18.3, 21.6, 19.5, 36.4, 16.7, 11.5, 24.4, 35.1, 21.6,\n",
       "       19.6, 15. , 25.2, 23.6, 20.4, 20.6, 21.7, 21.7, 24.8, 23.2, 23.1,\n",
       "       19.5, 22.3, 27.1, 35.4, 31.2, 24.4, 17.2, 23.7, 31.6, 19.6, 22.2,\n",
       "       15.2, 13.9, 13.6, 19.1, 22.8, 15.4, 19.3, 17.5, 22.3, 19.1, 19.5,\n",
       "       15.7, 19.6, 23.9, 11.3, 24.3, 23.1, 21.2, 20.7, 15.2, 29.1, 20. ,\n",
       "       19.8])"
      ]
     },
     "execution_count": 88,
     "metadata": {},
     "output_type": "execute_result"
    }
   ],
   "source": [
    "scale_y.inverse_transform(y_test)"
   ]
  },
  {
   "cell_type": "code",
   "execution_count": 91,
   "metadata": {},
   "outputs": [
    {
     "data": {
      "text/plain": [
       "array([31.50584882, 24.32926645, 18.62896147, 18.31492742, 18.93493037,\n",
       "       17.04444489, 18.29611927, 15.14465154, 15.74930137, 15.43827392,\n",
       "       18.31655579, 20.81896097, 15.02527395, 14.91986356, 19.95911255,\n",
       "       20.26920702, 20.68625076, 30.77126086, 16.72371287, 28.19943701,\n",
       "       20.06960156, 22.59552657, 20.26884204, 21.47009053, 21.05360268,\n",
       "       20.24996967, 24.32812687, 24.13102455, 25.80918505, 27.36703794,\n",
       "       21.15419216, 24.02853656, 30.39332877, 18.90851889, 16.69454724,\n",
       "       21.99745572, 17.99611497, 17.76640823, 18.58841553, 20.74958349,\n",
       "       15.63358276, 18.92944778, 19.13066142, 17.1339517 , 14.43215187,\n",
       "       13.99685253, 14.9798657 , 18.26671564, 19.01257097, 18.2412754 ,\n",
       "       22.02869255, 23.43770246, 22.59746073, 23.53123531, 19.51819612,\n",
       "       23.09857264, 27.18188015, 22.32795352, 32.57146738, 32.00938266,\n",
       "       30.55386685, 30.72492068, 18.95904407, 16.84163072, 17.74256029,\n",
       "       21.33258298, 23.68567676, 25.15324255, 20.5213803 , 22.86079367,\n",
       "       26.23400245, 24.94949561, 28.32827687, 29.60013565, 27.47516276,\n",
       "       28.12417327, 20.18821776, 18.05410156, 19.61247854, 27.27269275,\n",
       "       21.51073815, 19.60748885, 34.16610261, 21.55848205, 24.76099222,\n",
       "       23.7627691 , 23.04774949, 20.7565774 , 21.19650233, 31.02320207,\n",
       "       33.70551881, 32.30664168, 28.17192733, 21.98856396, 23.24789731,\n",
       "       26.52324919, 32.161609  , 21.63883529, 29.73268302, 23.0316466 ,\n",
       "       29.00556837, 27.3964755 , 27.50419534, 21.43771154, 22.98702724,\n",
       "       22.1268193 , 23.21237025, 20.88620543, 17.34730135, 24.09265688,\n",
       "       24.11503329, 19.3808203 , 21.77742763, 21.09366042, 18.46469652,\n",
       "       20.16507232, 19.30031168, 23.99399964, 26.48893956, 29.79998725,\n",
       "       20.40926617, 20.67949392, 19.61053788, 19.61634372, 24.38498665,\n",
       "       23.31358781, 17.25142974, 10.97133761, 11.30895293, 15.08115743,\n",
       "       11.98963092, 15.59184027, 14.48368834, 15.63356977, 15.4483549 ,\n",
       "       14.98652915, 13.53883554, 11.30521286, 12.0445181 , 11.07971009,\n",
       "       11.07236455, 10.73008029, 13.3477106 , 16.31698977, 12.18172943,\n",
       "       15.88861309, 11.80690179, 14.39006357, 16.44802185, 16.23635562,\n",
       "       11.77802988, 18.44161654, 14.10672653, 11.79692246, 13.63358815,\n",
       "       17.080531  , 15.30879369, 13.90083367, 15.35014592, 13.9172844 ,\n",
       "       16.20982828, 18.68083655, 20.96257225, 12.01976614, 22.39664371,\n",
       "       23.00820498, 10.98243018, 22.48984041, 21.93023937, 18.24089793,\n",
       "       21.44373342, 19.80986652, 22.76649238])"
      ]
     },
     "execution_count": 91,
     "metadata": {},
     "output_type": "execute_result"
    }
   ],
   "source": [
    "scale_y.inverse_transform(knr_reg_22.predict(test[:,[ 0,  5,  6,  7,  9, 10, 12]]))"
   ]
  },
  {
   "cell_type": "code",
   "execution_count": 94,
   "metadata": {},
   "outputs": [],
   "source": [
    "#visualizing the results\n",
    "from sklearn.decomposition import PCA"
   ]
  },
  {
   "cell_type": "code",
   "execution_count": 99,
   "metadata": {},
   "outputs": [],
   "source": [
    "\n",
    "pca = PCA(n_components=1)\n",
    "principalComponents = pca.fit_transform(X_train.iloc[:,[ 0,5,  6,  7,   9, 10, 12]])\n"
   ]
  },
  {
   "cell_type": "code",
   "execution_count": 100,
   "metadata": {},
   "outputs": [
    {
     "data": {
      "text/plain": [
       "array([0.46806876])"
      ]
     },
     "execution_count": 100,
     "metadata": {},
     "output_type": "execute_result"
    }
   ],
   "source": [
    "pca.explained_variance_ratio_"
   ]
  },
  {
   "cell_type": "code",
   "execution_count": 103,
   "metadata": {},
   "outputs": [
    {
     "data": {
      "text/plain": [
       "<matplotlib.collections.PathCollection at 0x15b75b70>"
      ]
     },
     "execution_count": 103,
     "metadata": {},
     "output_type": "execute_result"
    },
    {
     "data": {
      "image/png": "[encoded data removed]",
      "text/plain": [
       "<Figure size 432x288 with 1 Axes>"
      ]
     },
     "metadata": {},
     "output_type": "display_data"
    }
   ],
   "source": [
    "plt.scatter(principalComponents,scale_y.inverse_transform(y_train),c='r')\n",
    "plt.scatter(principalComponents,scale_y.inverse_transform(knr_reg_22.predict(X_train.iloc[:,[ 0,  5,  6,  7,  9, 10, 12]])))"
   ]
  },
  {
   "cell_type": "code",
   "execution_count": null,
   "metadata": {},
   "outputs": [],
   "source": []
  },
  {
   "cell_type": "code",
   "execution_count": 122,
   "metadata": {
    "scrolled": true
   },
   "outputs": [],
   "source": [
    "#most dependent feature is lstat but it has negative dependency\n",
    "#second most dependent feature is tax it has negative dependency\n",
    "#third most dependent feature is rm it has positive dependency\n",
    "#fourth most dependent feature is age it has negative dependency"
   ]
  }
 ],
 "metadata": {
  "kernelspec": {
   "display_name": "Python 3",
   "language": "python",
   "name": "python3"
  },
  "language_info": {
   "codemirror_mode": {
    "name": "ipython",
    "version": 3
   },
   "file_extension": ".py",
   "mimetype": "text/x-python",
   "name": "python",
   "nbconvert_exporter": "python",
   "pygments_lexer": "ipython3",
   "version": "3.6.4"
  }
 },
 "nbformat": 4,
 "nbformat_minor": 2
}
